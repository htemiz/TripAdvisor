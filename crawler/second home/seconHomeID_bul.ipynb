{
 "cells": [
  {
   "cell_type": "code",
   "execution_count": 42,
   "id": "b346c58c",
   "metadata": {},
   "outputs": [],
   "source": [
    "import pandas as pd\n",
    "import numpy as np\n",
    "import re\n",
    "from bs4 import BeautifulSoup\n",
    "import json\n",
    "import requests\n",
    "from time import sleep\n",
    "import random"
   ]
  },
  {
   "cell_type": "code",
   "execution_count": 43,
   "id": "aadce416",
   "metadata": {},
   "outputs": [],
   "source": [
    "headers = {'User-Agent': 'Mozilla/5.0 (Macintosh; Intel Mac OS X 10_11_6) AppleWebKit/537.36 (KHTML, like Gecko) Chrome/61.0.3163.100 Safari/537.36',\n",
    "        #'User-Agent': '*',\n",
    "'Accept': 'text/html,application/xhtml+xml,application/xml;q=0.9,*/*;q=0.8',\n",
    "'Accept-Language': 'en-US,en;q=0.5',\n",
    "'Accept-Encoding': 'gzip, deflate',\n",
    "'Connection': 'keep-alive',\n",
    "'Upgrade-Insecure-Requests': '1',\n",
    "}\n",
    "\n",
    "s = requests.Session()\n",
    "s.headers.update(headers)"
   ]
  },
  {
   "cell_type": "code",
   "execution_count": 3,
   "id": "c5a157ac",
   "metadata": {},
   "outputs": [],
   "source": [
    "url = [\"https://www.tripadvisor.com/VRACSearch-g187463-Reviews-Palma_de_Mallorca_Majorca_Balearic_Islands-Vacation_Rentals.html?sortOrder=NRH\",\n",
    "       \"https://www.tripadvisor.com/VRACSearch-g189415-Reviews-Chania_Town_Chania_Prefecture_Crete-Vacation_Rentals.html?sortOrder=NRH\",\n",
    "       \"https://www.tripadvisor.com/VRACSearch-g298031-Reviews-zfs2-Fethiye_Mugla_Province_Turkish_Aegean_Coast-Fethiye_House_Rentals.html?sortOrder=NRH\"]"
   ]
  },
  {
   "cell_type": "code",
   "execution_count": 4,
   "id": "e434edee",
   "metadata": {},
   "outputs": [
    {
     "data": {
      "text/plain": [
       "'https://www.tripadvisor.com/VRACSearch-g187463-Reviews-Palma_de_Mallorca_Majorca_Balearic_Islands-Vacation_Rentals.html?sortOrder=NRH'"
      ]
     },
     "execution_count": 4,
     "metadata": {},
     "output_type": "execute_result"
    }
   ],
   "source": [
    "url[0]"
   ]
  },
  {
   "cell_type": "code",
   "execution_count": 50,
   "id": "511e3216",
   "metadata": {},
   "outputs": [],
   "source": [
    "r = s.get(\"http://www.tripadvisor.com/VacationRentalReview-g2187525-d2110122\",allow_redirects=True)\n",
    "soup = BeautifulSoup(r.text, 'html.parser')"
   ]
  },
  {
   "cell_type": "code",
   "execution_count": 51,
   "id": "065f469d",
   "metadata": {},
   "outputs": [],
   "source": [
    "reviewCount = soup.select(\"span[class='reviews_header_count block_title']\")"
   ]
  },
  {
   "cell_type": "code",
   "execution_count": 67,
   "id": "f4edbae5",
   "metadata": {},
   "outputs": [
    {
     "ename": "AttributeError",
     "evalue": "'NoneType' object has no attribute 'group'",
     "output_type": "error",
     "traceback": [
      "\u001b[1;31m---------------------------------------------------------------------------\u001b[0m",
      "\u001b[1;31mAttributeError\u001b[0m                            Traceback (most recent call last)",
      "\u001b[1;32m<ipython-input-67-0071cc620edb>\u001b[0m in \u001b[0;36m<module>\u001b[1;34m\u001b[0m\n\u001b[1;32m----> 1\u001b[1;33m \u001b[0mre\u001b[0m\u001b[1;33m.\u001b[0m\u001b[0msearch\u001b[0m\u001b[1;33m(\u001b[0m\u001b[1;34mr'[0-9]+'\u001b[0m\u001b[1;33m,\u001b[0m \u001b[1;34m\"ahmet\"\u001b[0m\u001b[1;33m)\u001b[0m\u001b[1;33m.\u001b[0m\u001b[0mgroup\u001b[0m\u001b[1;33m(\u001b[0m\u001b[1;36m0\u001b[0m\u001b[1;33m)\u001b[0m \u001b[1;33m==\u001b[0m \u001b[1;32mNone\u001b[0m\u001b[1;33m\u001b[0m\u001b[1;33m\u001b[0m\u001b[0m\n\u001b[0m",
      "\u001b[1;31mAttributeError\u001b[0m: 'NoneType' object has no attribute 'group'"
     ]
    }
   ],
   "source": [
    "re.search(r'[0-9]+', \"ahmet\").group(0) == None"
   ]
  },
  {
   "cell_type": "code",
   "execution_count": 48,
   "id": "a1c20ca8",
   "metadata": {},
   "outputs": [
    {
     "data": {
      "text/plain": []
     },
     "execution_count": 48,
     "metadata": {},
     "output_type": "execute_result"
    }
   ],
   "source": [
    "soup"
   ]
  },
  {
   "cell_type": "code",
   "execution_count": 49,
   "id": "fa19f0c8",
   "metadata": {},
   "outputs": [
    {
     "data": {
      "text/plain": [
       "301"
      ]
     },
     "execution_count": 49,
     "metadata": {},
     "output_type": "execute_result"
    }
   ],
   "source": [
    "r.status_code"
   ]
  },
  {
   "cell_type": "code",
   "execution_count": 9,
   "id": "fb82559f",
   "metadata": {},
   "outputs": [],
   "source": [
    "bul = soup.find_all('a', {'href': re.compile(r'VacationRentalReview.*.html')})"
   ]
  },
  {
   "cell_type": "code",
   "execution_count": 10,
   "id": "87b19d63",
   "metadata": {},
   "outputs": [
    {
     "data": {
      "text/plain": [
       "0"
      ]
     },
     "execution_count": 10,
     "metadata": {},
     "output_type": "execute_result"
    }
   ],
   "source": [
    "len(bul)"
   ]
  },
  {
   "cell_type": "code",
   "execution_count": 75,
   "id": "578b2fdb",
   "metadata": {},
   "outputs": [],
   "source": [
    "liste = []\n",
    "dest = []\n",
    "for item in bul:\n",
    "    destination = re.search(r'd([0-9]+)', str(item)).group(0)\n",
    "    if destination not in dest:\n",
    "        dest.append(destination)\n",
    "        liste.append(item.attrs['href'])"
   ]
  },
  {
   "cell_type": "code",
   "execution_count": 76,
   "id": "a8761a7c",
   "metadata": {},
   "outputs": [
    {
     "data": {
      "text/plain": [
       "50"
      ]
     },
     "execution_count": 76,
     "metadata": {},
     "output_type": "execute_result"
    }
   ],
   "source": [
    "len(liste)"
   ]
  },
  {
   "cell_type": "code",
   "execution_count": 77,
   "id": "acfd40a5",
   "metadata": {},
   "outputs": [
    {
     "data": {
      "text/plain": [
       "'/VacationRentalReview-g2187525-d2110122-Villa_Poppy-Yesiluzumlu_Fethiye_Mugla_Province_Turkish_Aegean_Coast.html'"
      ]
     },
     "execution_count": 77,
     "metadata": {},
     "output_type": "execute_result"
    }
   ],
   "source": [
    "liste[0]"
   ]
  },
  {
   "cell_type": "code",
   "execution_count": 78,
   "id": "aa84704b",
   "metadata": {},
   "outputs": [],
   "source": [
    "pd.DataFrame(liste, columns=['seconHomes']).to_csv(\"./Fethiye.csv\", index=False)"
   ]
  },
  {
   "cell_type": "code",
   "execution_count": null,
   "id": "479d73d2",
   "metadata": {},
   "outputs": [],
   "source": []
  }
 ],
 "metadata": {
  "kernelspec": {
   "display_name": "Python 3",
   "language": "python",
   "name": "python3"
  },
  "language_info": {
   "codemirror_mode": {
    "name": "ipython",
    "version": 3
   },
   "file_extension": ".py",
   "mimetype": "text/x-python",
   "name": "python",
   "nbconvert_exporter": "python",
   "pygments_lexer": "ipython3",
   "version": "3.9.1"
  }
 },
 "nbformat": 4,
 "nbformat_minor": 5
}
