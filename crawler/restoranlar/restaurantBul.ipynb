{
 "cells": [
  {
   "cell_type": "code",
   "execution_count": 4,
   "id": "c0096047",
   "metadata": {},
   "outputs": [],
   "source": [
    "import pandas as pd\n",
    "import numpy as np\n",
    "import re\n",
    "from bs4 import BeautifulSoup\n",
    "import json\n",
    "import requests\n",
    "from time import sleep\n",
    "import random\n",
    "from typing import List, Any"
   ]
  },
  {
   "cell_type": "code",
   "execution_count": 5,
   "id": "4b8986c1",
   "metadata": {},
   "outputs": [],
   "source": [
    "user_agent_01 = \"Mozilla/5.0 (Windows NT 10.0; Win64; x64) AppleWebKit/537.36 (KHTML, like Gecko) Chrome/92.0.4515.131 Safari/537.36 Edg/92.0.902.67\"\n",
    "user_agent_02 = \"Mozilla/5.0 (Macintosh; Intel Mac OS X 10_11_6) AppleWebKit/537.36 (KHTML, like Gecko) Chrome/61.0.3163.100 Safari/537.36\"\n",
    "headers_01 = {'User-Agent': user_agent_01,\n",
    "        #'User-Agent': '*',\n",
    "'Accept': 'text/html,application/xhtml+xml,application/xml;q=0.9,*/*;q=0.8',\n",
    "'Accept-Language': 'en-US,en;q=0.5',\n",
    "'Accept-Encoding': 'gzip, deflate',\n",
    "'Connection': 'keep-alive',\n",
    "'Upgrade-Insecure-Requests': '1',\n",
    "'Cache-Control': 'no-cache',\n",
    "'Content-Type': 'application/x-www-form-urlencoded; charset=utf-8',\n",
    "'Host': 'www.tripadvisor.com',\n",
    "'Pragma': 'no-cache',\n",
    "'Referer': 'https://www.tripadvisor.com/',\n",
    "#'Referer': url_from_autocomplete,\n",
    "\n",
    "}\n",
    "s = requests.Session()\n",
    "s.headers.update(headers_01)"
   ]
  },
  {
   "cell_type": "code",
   "execution_count": 7,
   "id": "7ccdcb97",
   "metadata": {},
   "outputs": [
    {
     "name": "stdout",
     "output_type": "stream",
     "text": [
      "https://www.tripadvisor.com/Restaurants-g312725\n",
      "1. kısım tamam\n",
      "https://www.tripadvisor.com/Restaurants-g312725-oa30\n",
      "2. kısım tamam\n",
      "https://www.tripadvisor.com/Restaurants-g312725-oa60\n",
      "3. kısım tamam\n"
     ]
    }
   ],
   "source": [
    "url = \"https://www.tripadvisor.com/Restaurants-g312725\"\n",
    "oastep = 30\n",
    "for i in range(3):\n",
    "    if i == 0:\n",
    "        url_al = url\n",
    "    else:\n",
    "        url_al = url + '-oa' + str(oastep * i)\n",
    "    print(url_al)\n",
    "    r = s.get(url_al, allow_redirects=True)\n",
    "    soup = BeautifulSoup(r.text, \"html.parser\")\n",
    "    liste = soup.find_all('div', attrs={'data-test': re.compile(r'[0-9]*_list_item')})\n",
    "    for item in liste:\n",
    "        restaurantlar = item.extract().find('a').attrs['href']\n",
    "        text = item.extract().find('span').text\n",
    "        text = re.sub(r'.*(Open|Closed) Now', ' ', text, re.DOTALL)\n",
    "        nitelik = re.sub(r'(-|\\$)*', '',text.split(r'“')[0])\n",
    "        yorumYaz =  List['Any']                \n",
    "        yorumYaz = [restaurantlar, nitelik]\n",
    "        pd.DataFrame(np.reshape(yorumYaz, (1,2))).to_csv(\"./makale_02/belekRest.csv\", mode=\"a\", index=False, header=False)\n",
    "    print(f\"{i+1}. kısım tamam\")      "
   ]
  },
  {
   "cell_type": "code",
   "execution_count": 5,
   "id": "6451b15d",
   "metadata": {},
   "outputs": [],
   "source": [
    "en = soup.find_all('div', {'data-value': 'en'})"
   ]
  },
  {
   "cell_type": "code",
   "execution_count": 28,
   "id": "f5725dc3",
   "metadata": {},
   "outputs": [
    {
     "data": {
      "text/plain": [
       "[<div class=\"item\" data-tracker=\"English\" data-value=\"en\"><label class=\"label container\" for=\"filters_detail_language_filterLang_en\"><input checked=\"checked\" id=\"filters_detail_language_filterLang_en\" name=\"filters_detail_language_filterLang_0\" onchange=\"widgetEvCall('handlers.updateFilter', event, this);\" type=\"radio\" value=\"en\"/><span class=\"checkmark\"></span>English <span class=\"count\">(28)</span></label></div>,\n",
       " <div class=\"item\" data-tracker=\"English\" data-value=\"en\"><label class=\"label container\" for=\"filters_detail_language_filterLang_en\"><input checked=\"checked\" id=\"filters_detail_language_filterLang_en\" name=\"filters_detail_language_filterLang_1\" onchange=\"widgetEvCall('handlers.updateFilter', event, this);\" type=\"radio\" value=\"en\"/><span class=\"checkmark\"></span>English <span class=\"count\">(28)</span></label></div>]"
      ]
     },
     "execution_count": 28,
     "metadata": {},
     "output_type": "execute_result"
    }
   ],
   "source": [
    "en"
   ]
  },
  {
   "cell_type": "code",
   "execution_count": 40,
   "id": "79d97e8b",
   "metadata": {},
   "outputs": [
    {
     "data": {
      "text/plain": [
       "'28'"
      ]
     },
     "execution_count": 40,
     "metadata": {},
     "output_type": "execute_result"
    }
   ],
   "source": [
    "re.search(r'class=\\\"count\\\">.*?([0-9]+)', str(en)).group(1)"
   ]
  },
  {
   "cell_type": "code",
   "execution_count": null,
   "id": "ae250798",
   "metadata": {},
   "outputs": [],
   "source": []
  }
 ],
 "metadata": {
  "kernelspec": {
   "display_name": "Python 3",
   "language": "python",
   "name": "python3"
  },
  "language_info": {
   "codemirror_mode": {
    "name": "ipython",
    "version": 3
   },
   "file_extension": ".py",
   "mimetype": "text/x-python",
   "name": "python",
   "nbconvert_exporter": "python",
   "pygments_lexer": "ipython3",
   "version": "3.9.1"
  }
 },
 "nbformat": 4,
 "nbformat_minor": 5
}
