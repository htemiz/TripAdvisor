{
 "cells": [
  {
   "cell_type": "code",
   "execution_count": 1,
   "id": "infinite-person",
   "metadata": {},
   "outputs": [],
   "source": [
    "import pandas as pd\n",
    "import re"
   ]
  },
  {
   "cell_type": "code",
   "execution_count": 2,
   "id": "maritime-hazard",
   "metadata": {},
   "outputs": [
    {
     "data": {
      "text/html": [
       "<div>\n",
       "<style scoped>\n",
       "    .dataframe tbody tr th:only-of-type {\n",
       "        vertical-align: middle;\n",
       "    }\n",
       "\n",
       "    .dataframe tbody tr th {\n",
       "        vertical-align: top;\n",
       "    }\n",
       "\n",
       "    .dataframe thead th {\n",
       "        text-align: right;\n",
       "    }\n",
       "</style>\n",
       "<table border=\"1\" class=\"dataframe\">\n",
       "  <thead>\n",
       "    <tr style=\"text-align: right;\">\n",
       "      <th></th>\n",
       "      <th>yorumIDs</th>\n",
       "    </tr>\n",
       "  </thead>\n",
       "  <tbody>\n",
       "    <tr>\n",
       "      <th>0</th>\n",
       "      <td>/ShowUserReviews-g312725-d23353863-r799703257</td>\n",
       "    </tr>\n",
       "    <tr>\n",
       "      <th>1</th>\n",
       "      <td>/ShowUserReviews-g312725-d23353863-r800130213</td>\n",
       "    </tr>\n",
       "    <tr>\n",
       "      <th>2</th>\n",
       "      <td>/ShowUserReviews-g312725-d23353863-r799535066</td>\n",
       "    </tr>\n",
       "    <tr>\n",
       "      <th>3</th>\n",
       "      <td>/ShowUserReviews-g312725-d23353863-r799941860</td>\n",
       "    </tr>\n",
       "    <tr>\n",
       "      <th>4</th>\n",
       "      <td>/ShowUserReviews-g312725-d23353863-r799326009</td>\n",
       "    </tr>\n",
       "  </tbody>\n",
       "</table>\n",
       "</div>"
      ],
      "text/plain": [
       "                                        yorumIDs\n",
       "0  /ShowUserReviews-g312725-d23353863-r799703257\n",
       "1  /ShowUserReviews-g312725-d23353863-r800130213\n",
       "2  /ShowUserReviews-g312725-d23353863-r799535066\n",
       "3  /ShowUserReviews-g312725-d23353863-r799941860\n",
       "4  /ShowUserReviews-g312725-d23353863-r799326009"
      ]
     },
     "execution_count": 2,
     "metadata": {},
     "output_type": "execute_result"
    }
   ],
   "source": [
    "df = pd.read_csv(\"./belekYorumIdleri.csv\")\n",
    "df.head()"
   ]
  },
  {
   "cell_type": "code",
   "execution_count": 3,
   "id": "developmental-context",
   "metadata": {},
   "outputs": [
    {
     "data": {
      "text/plain": [
       "(3755, 1)"
      ]
     },
     "execution_count": 3,
     "metadata": {},
     "output_type": "execute_result"
    }
   ],
   "source": [
    "df.shape"
   ]
  },
  {
   "cell_type": "code",
   "execution_count": 4,
   "id": "revolutionary-disposal",
   "metadata": {},
   "outputs": [
    {
     "data": {
      "text/plain": [
       "(3700, 1)"
      ]
     },
     "execution_count": 4,
     "metadata": {},
     "output_type": "execute_result"
    }
   ],
   "source": [
    "df.drop(labels=list(df[df.yorumIDs == 'yorumIDs'].index), inplace=True)\n",
    "df.shape"
   ]
  },
  {
   "cell_type": "code",
   "execution_count": 5,
   "id": "dominican-butter",
   "metadata": {},
   "outputs": [
    {
     "data": {
      "text/plain": [
       "(3700, 1)"
      ]
     },
     "execution_count": 5,
     "metadata": {},
     "output_type": "execute_result"
    }
   ],
   "source": [
    "df.drop_duplicates(inplace=True)\n",
    "df.shape"
   ]
  },
  {
   "cell_type": "markdown",
   "id": "other-flash",
   "metadata": {},
   "source": [
    "### Kaş"
   ]
  },
  {
   "cell_type": "code",
   "execution_count": 6,
   "id": "floral-twins",
   "metadata": {},
   "outputs": [
    {
     "data": {
      "text/html": [
       "<div>\n",
       "<style scoped>\n",
       "    .dataframe tbody tr th:only-of-type {\n",
       "        vertical-align: middle;\n",
       "    }\n",
       "\n",
       "    .dataframe tbody tr th {\n",
       "        vertical-align: top;\n",
       "    }\n",
       "\n",
       "    .dataframe thead th {\n",
       "        text-align: right;\n",
       "    }\n",
       "</style>\n",
       "<table border=\"1\" class=\"dataframe\">\n",
       "  <thead>\n",
       "    <tr style=\"text-align: right;\">\n",
       "      <th></th>\n",
       "      <th>yorumIDs</th>\n",
       "    </tr>\n",
       "  </thead>\n",
       "  <tbody>\n",
       "    <tr>\n",
       "      <th>0</th>\n",
       "      <td>/ShowUserReviews-g297965-d23431722-r801454443</td>\n",
       "    </tr>\n",
       "    <tr>\n",
       "      <th>1</th>\n",
       "      <td>/ShowUserReviews-g297965-d23431722-r795114750</td>\n",
       "    </tr>\n",
       "    <tr>\n",
       "      <th>2</th>\n",
       "      <td>/ShowUserReviews-g297965-d23431722-r792062244</td>\n",
       "    </tr>\n",
       "    <tr>\n",
       "      <th>3</th>\n",
       "      <td>/ShowUserReviews-g297965-d23431722-r800253288</td>\n",
       "    </tr>\n",
       "    <tr>\n",
       "      <th>4</th>\n",
       "      <td>/ShowUserReviews-g297965-d23431722-r791850078</td>\n",
       "    </tr>\n",
       "  </tbody>\n",
       "</table>\n",
       "</div>"
      ],
      "text/plain": [
       "                                        yorumIDs\n",
       "0  /ShowUserReviews-g297965-d23431722-r801454443\n",
       "1  /ShowUserReviews-g297965-d23431722-r795114750\n",
       "2  /ShowUserReviews-g297965-d23431722-r792062244\n",
       "3  /ShowUserReviews-g297965-d23431722-r800253288\n",
       "4  /ShowUserReviews-g297965-d23431722-r791850078"
      ]
     },
     "execution_count": 6,
     "metadata": {},
     "output_type": "execute_result"
    }
   ],
   "source": [
    "kas = pd.read_csv(\"./kasYorumIdleri.csv\")\n",
    "kas.head()"
   ]
  },
  {
   "cell_type": "code",
   "execution_count": 7,
   "id": "tracked-governor",
   "metadata": {},
   "outputs": [
    {
     "data": {
      "text/plain": [
       "(7589, 1)"
      ]
     },
     "execution_count": 7,
     "metadata": {},
     "output_type": "execute_result"
    }
   ],
   "source": [
    "kas.shape"
   ]
  },
  {
   "cell_type": "code",
   "execution_count": 8,
   "id": "grateful-judge",
   "metadata": {},
   "outputs": [
    {
     "data": {
      "text/plain": [
       "(7422, 1)"
      ]
     },
     "execution_count": 8,
     "metadata": {},
     "output_type": "execute_result"
    }
   ],
   "source": [
    "kas.drop(labels=list(kas[kas.yorumIDs == 'yorumIDs'].index), inplace=True)\n",
    "kas.shape"
   ]
  },
  {
   "cell_type": "code",
   "execution_count": 9,
   "id": "intermediate-strand",
   "metadata": {},
   "outputs": [
    {
     "data": {
      "text/plain": [
       "(7280, 1)"
      ]
     },
     "execution_count": 9,
     "metadata": {},
     "output_type": "execute_result"
    }
   ],
   "source": [
    "kas.drop_duplicates(inplace=True)\n",
    "kas.shape"
   ]
  },
  {
   "cell_type": "code",
   "execution_count": 10,
   "id": "public-orlando",
   "metadata": {},
   "outputs": [
    {
     "data": {
      "text/html": [
       "<div>\n",
       "<style scoped>\n",
       "    .dataframe tbody tr th:only-of-type {\n",
       "        vertical-align: middle;\n",
       "    }\n",
       "\n",
       "    .dataframe tbody tr th {\n",
       "        vertical-align: top;\n",
       "    }\n",
       "\n",
       "    .dataframe thead th {\n",
       "        text-align: right;\n",
       "    }\n",
       "</style>\n",
       "<table border=\"1\" class=\"dataframe\">\n",
       "  <thead>\n",
       "    <tr style=\"text-align: right;\">\n",
       "      <th></th>\n",
       "      <th>yorumIDs</th>\n",
       "    </tr>\n",
       "  </thead>\n",
       "  <tbody>\n",
       "    <tr>\n",
       "      <th>0</th>\n",
       "      <td>/ShowUserReviews-g297965-d23431722-r801454443</td>\n",
       "    </tr>\n",
       "    <tr>\n",
       "      <th>1</th>\n",
       "      <td>/ShowUserReviews-g297965-d23431722-r795114750</td>\n",
       "    </tr>\n",
       "    <tr>\n",
       "      <th>2</th>\n",
       "      <td>/ShowUserReviews-g297965-d23431722-r792062244</td>\n",
       "    </tr>\n",
       "    <tr>\n",
       "      <th>3</th>\n",
       "      <td>/ShowUserReviews-g297965-d23431722-r800253288</td>\n",
       "    </tr>\n",
       "    <tr>\n",
       "      <th>4</th>\n",
       "      <td>/ShowUserReviews-g297965-d23431722-r791850078</td>\n",
       "    </tr>\n",
       "    <tr>\n",
       "      <th>5</th>\n",
       "      <td>/ShowUserReviews-g297965-d23431722-r795842513</td>\n",
       "    </tr>\n",
       "    <tr>\n",
       "      <th>6</th>\n",
       "      <td>/ShowUserReviews-g297965-d23431722-r796959999</td>\n",
       "    </tr>\n",
       "    <tr>\n",
       "      <th>7</th>\n",
       "      <td>/ShowUserReviews-g297965-d23431722-r792809666</td>\n",
       "    </tr>\n",
       "    <tr>\n",
       "      <th>8</th>\n",
       "      <td>/ShowUserReviews-g297965-d23431722-r796965262</td>\n",
       "    </tr>\n",
       "    <tr>\n",
       "      <th>9</th>\n",
       "      <td>/ShowUserReviews-g297965-d23431722-r798040169</td>\n",
       "    </tr>\n",
       "  </tbody>\n",
       "</table>\n",
       "</div>"
      ],
      "text/plain": [
       "                                        yorumIDs\n",
       "0  /ShowUserReviews-g297965-d23431722-r801454443\n",
       "1  /ShowUserReviews-g297965-d23431722-r795114750\n",
       "2  /ShowUserReviews-g297965-d23431722-r792062244\n",
       "3  /ShowUserReviews-g297965-d23431722-r800253288\n",
       "4  /ShowUserReviews-g297965-d23431722-r791850078\n",
       "5  /ShowUserReviews-g297965-d23431722-r795842513\n",
       "6  /ShowUserReviews-g297965-d23431722-r796959999\n",
       "7  /ShowUserReviews-g297965-d23431722-r792809666\n",
       "8  /ShowUserReviews-g297965-d23431722-r796965262\n",
       "9  /ShowUserReviews-g297965-d23431722-r798040169"
      ]
     },
     "execution_count": 10,
     "metadata": {},
     "output_type": "execute_result"
    }
   ],
   "source": [
    "kas[:10]"
   ]
  },
  {
   "cell_type": "code",
   "execution_count": null,
   "id": "announced-compromise",
   "metadata": {},
   "outputs": [],
   "source": []
  }
 ],
 "metadata": {
  "kernelspec": {
   "display_name": "Python 3",
   "language": "python",
   "name": "python3"
  },
  "language_info": {
   "codemirror_mode": {
    "name": "ipython",
    "version": 3
   },
   "file_extension": ".py",
   "mimetype": "text/x-python",
   "name": "python",
   "nbconvert_exporter": "python",
   "pygments_lexer": "ipython3",
   "version": "3.7.9"
  }
 },
 "nbformat": 4,
 "nbformat_minor": 5
}
